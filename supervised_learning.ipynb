{
  "cells": [
    {
      "cell_type": "markdown",
      "metadata": {
        "colab_type": "text",
        "id": "view-in-github"
      },
      "source": [
        "<a href=\"https://colab.research.google.com/github/BuweiChen/mini-alpha-go-for-chess/blob/main/supervised_learning.ipynb\" target=\"_parent\"><img src=\"https://colab.research.google.com/assets/colab-badge.svg\" alt=\"Open In Colab\"/></a>"
      ]
    },
    {
      "cell_type": "markdown",
      "metadata": {},
      "source": [
        "Note: the version of code here is different from the one that runs on colab because of differences in folder layouts."
      ]
    },
    {
      "cell_type": "code",
      "execution_count": 1,
      "metadata": {
        "colab": {
          "base_uri": "https://localhost:8080/"
        },
        "id": "kWksMLrUllRo",
        "outputId": "4eaef685-d5c6-4442-cf1d-65b2547d50aa"
      },
      "outputs": [
        {
          "name": "stdout",
          "output_type": "stream",
          "text": [
            "Warning: Your Kaggle API key is readable by other users on this system! To fix this, you can run 'chmod 600 /Users/buweichen/.kaggle/kaggle.json'\n",
            "Dataset URL: https://www.kaggle.com/datasets/arevel/chess-games\n",
            "License(s): CC0-1.0\n",
            "Downloading chess-games.zip to /Users/buweichen/repos/mini-alpha-go-for-chess\n",
            "100%|██████████████████████████████████████| 1.45G/1.45G [02:11<00:00, 13.3MB/s]\n",
            "100%|██████████████████████████████████████| 1.45G/1.45G [02:11<00:00, 11.8MB/s]\n",
            "unzip:  cannot find or open /chess-games.zip, /chess-games.zip.zip or /chess-games.zip.ZIP.\n"
          ]
        }
      ],
      "source": [
        "! pip install kaggle -q\n",
        "! mkdir ~/.kaggle\n",
        "! cp kaggle.json ~/.kaggle/\n",
        "! kaggle datasets download arevel/chess-games\n",
        "! unzip -qq /chess-games.zip"
      ]
    },
    {
      "cell_type": "code",
      "execution_count": 7,
      "metadata": {
        "id": "k7UAUQWrqptY"
      },
      "outputs": [],
      "source": [
        "! pip install chess -q\n",
        "! pip install numpy -q\n",
        "! pip install pandas -q\n",
        "! pip install torch -q"
      ]
    },
    {
      "cell_type": "code",
      "execution_count": 3,
      "metadata": {
        "id": "VDF4_Ccuma6T"
      },
      "outputs": [],
      "source": [
        "letter_to_num = {'a': 0, 'b': 1, 'c': 2, 'd': 3, 'e': 4, 'f': 5, 'g': 6, 'h': 7}\n",
        "num_to_letter = {0: 'a', 1: 'b', 2: 'c', 3: 'd', 4: 'e', 5: 'f', 6: 'g', 7: 'h'}"
      ]
    },
    {
      "cell_type": "code",
      "execution_count": 8,
      "metadata": {
        "id": "-f9bU6f0q4dc"
      },
      "outputs": [],
      "source": [
        "import numpy as np\n",
        "import re\n",
        "import chess\n",
        "import pandas as pd\n",
        "from torch.utils.data import Dataset, DataLoader\n",
        "import torch\n",
        "from torch import nn\n",
        "from torch.nn import functional as F\n",
        "import torch.optim as optim\n",
        "import gc"
      ]
    },
    {
      "cell_type": "code",
      "execution_count": 9,
      "metadata": {
        "id": "mTn0_1WXqLrg"
      },
      "outputs": [],
      "source": [
        "def board_to_rep(board):\n",
        "  pieces = ['p', 'r', 'n', 'k', 'q', 'b']\n",
        "  layers = []\n",
        "  for piece in pieces:\n",
        "    layers.append(create_rep_layer(board, piece))\n",
        "  board_rep = np.stack(layers)\n",
        "  return board_rep"
      ]
    },
    {
      "cell_type": "code",
      "execution_count": 10,
      "metadata": {
        "id": "eokwxK57rhB6"
      },
      "outputs": [
        {
          "name": "stderr",
          "output_type": "stream",
          "text": [
            "<>:6: SyntaxWarning: invalid escape sequence '\\.'\n",
            "<>:6: SyntaxWarning: invalid escape sequence '\\.'\n",
            "/var/folders/vf/n7zx307d44z70x5hp9cjj2gr0000gn/T/ipykernel_9411/2156791078.py:6: SyntaxWarning: invalid escape sequence '\\.'\n",
            "  s = re.sub(f'\\.', '0', s)\n"
          ]
        }
      ],
      "source": [
        "def create_rep_layer(board, type):\n",
        "  s = str(board)\n",
        "  s = re.sub(f'[^{type}{type.upper()} \\n]', '.', s)\n",
        "  s = re.sub(f'{type}', '-1', s)\n",
        "  s = re.sub(f'{type.upper()}', '1', s)\n",
        "  s = re.sub(f'\\.', '0', s)\n",
        "  board_mat = []\n",
        "  for row in s.split('\\n'):\n",
        "    row = row.split(' ')\n",
        "    row = [int(x) for x in row]\n",
        "    board_mat.append(row)\n",
        "\n",
        "  return np.array(board_mat)"
      ]
    },
    {
      "cell_type": "code",
      "execution_count": null,
      "metadata": {
        "colab": {
          "base_uri": "https://localhost:8080/"
        },
        "id": "3-mye6KDvxh2",
        "outputId": "33dc36bb-525e-47e8-a049-e1c675d0ce94"
      },
      "outputs": [],
      "source": [
        "test_board = chess.Board(\"r1bqkb1r/pppp1Qpp/2n2n2/4p3/2B1P3/8/PPPP1PPP/RNB1K1NR b KQkq - 0 4\")\n",
        "print(test_board)\n",
        "print(board_to_rep(test_board))"
      ]
    },
    {
      "cell_type": "code",
      "execution_count": null,
      "metadata": {
        "id": "d_nW8jTZs1Z3"
      },
      "outputs": [],
      "source": [
        "def move_to_rep(move, board):\n",
        "  board.push_san(move).uci()\n",
        "  move = str(board.pop())\n",
        "\n",
        "  from_output_layer = np.zeros((8,8))\n",
        "  from_row = 8 - int(move[1])\n",
        "  from_column = letter_to_num[move[0]]\n",
        "  from_output_layer[from_row, from_column] = 1\n",
        "\n",
        "  to_output_layer = np.zeros((8,8))\n",
        "  to_row = 8 - int(move[3])\n",
        "  to_column = letter_to_num[move[2]]\n",
        "  to_output_layer[to_row, to_column] = 1\n",
        "\n",
        "  return np.stack([from_output_layer, to_output_layer])"
      ]
    },
    {
      "cell_type": "code",
      "execution_count": null,
      "metadata": {
        "id": "RfGKHtPsunCs"
      },
      "outputs": [],
      "source": [
        "def create_move_list(s):\n",
        "  return re.sub('\\d*\\. ', '', s).split(' ')[:-1]"
      ]
    },
    {
      "cell_type": "code",
      "execution_count": null,
      "metadata": {
        "colab": {
          "base_uri": "https://localhost:8080/"
        },
        "id": "HZbhU7XldI6R",
        "outputId": "b7a89bae-5dc8-46f3-c75d-7e643f9de7cf"
      },
      "outputs": [
        {
          "name": "stdout",
          "output_type": "stream",
          "text": [
            "883376\n"
          ]
        }
      ],
      "source": [
        "chess_data_raw = pd.read_csv('chess_games.csv', usecols=['AN', 'WhiteElo'])\n",
        "chess_data = chess_data_raw[chess_data_raw['WhiteElo'] > 2000]\n",
        "del chess_data_raw\n",
        "gc.collect()\n",
        "chess_data = chess_data[['AN']]\n",
        "chess_data = chess_data[~chess_data['AN'].str.contains('{')]\n",
        "chess_data = chess_data[chess_data['AN'].str.len() > 20]\n",
        "print(chess_data.shape[0])"
      ]
    },
    {
      "cell_type": "code",
      "execution_count": null,
      "metadata": {
        "id": "eaJEgFHJfT37"
      },
      "outputs": [],
      "source": [
        "class ChessDataset(Dataset):\n",
        "  def __init__(self, games):\n",
        "    super(ChessDataset, self).__init__()\n",
        "    self.games = games\n",
        "\n",
        "  def __len__(self):\n",
        "    return 40000\n",
        "\n",
        "  def __getitem__(self, index):\n",
        "    game_i = np.random.randint(self.games.shape[0])\n",
        "    random_game = chess_data['AN'].values[game_i]\n",
        "    moves = create_move_list(random_game)\n",
        "    game_state_i = np.random.randint(len(moves) - 1)\n",
        "    next_move = moves[game_state_i]\n",
        "    moves = moves[:game_state_i]\n",
        "    board = chess.Board()\n",
        "    for move in moves:\n",
        "      board.push_san(move)\n",
        "    x = board_to_rep(board)\n",
        "    y = move_to_rep(next_move, board)\n",
        "    if game_state_i % 2 == 1:\n",
        "      x *= -1\n",
        "    return x, y"
      ]
    },
    {
      "cell_type": "code",
      "execution_count": null,
      "metadata": {
        "id": "UPZQCrquhHBl"
      },
      "outputs": [],
      "source": [
        "data_train = ChessDataset(chess_data['AN'])\n",
        "data_train_loader = DataLoader(data_train, batch_size=32, shuffle=True, drop_last=True)"
      ]
    },
    {
      "cell_type": "code",
      "execution_count": null,
      "metadata": {
        "id": "6_38nx83i00K"
      },
      "outputs": [],
      "source": [
        "class module(nn.Module):\n",
        "  def __init__(self, hidden_size):\n",
        "    super(module, self).__init__()\n",
        "    self.conv1 = nn.Conv2d(hidden_size, hidden_size, 3, stride=1, padding=1)\n",
        "    self.conv2 = nn.Conv2d(hidden_size, hidden_size, 3, stride=1, padding=1)\n",
        "    self.bn1 = nn.BatchNorm2d(hidden_size)\n",
        "    self.bn2 = nn.BatchNorm2d(hidden_size)\n",
        "    self.activation1 = nn.SELU()\n",
        "    self.activation2 = nn.SELU()\n",
        "  def forward(self, x):\n",
        "    x_input = torch.clone(x)\n",
        "    x = self.conv1(x)\n",
        "    x = self.bn1(x)\n",
        "    x = self.activation1(x)\n",
        "    x = self.conv2(x)\n",
        "    x = self.bn2(x)\n",
        "    x = x + x_input # residual connections\n",
        "    x = self.activation2(x)\n",
        "    return x"
      ]
    },
    {
      "cell_type": "code",
      "execution_count": null,
      "metadata": {
        "id": "x5yn8ZQxkdVL"
      },
      "outputs": [],
      "source": [
        "class ChessNet(nn.Module):\n",
        "  def __init__(self, hidden_layers=4, hidden_size=200):\n",
        "    super(ChessNet, self).__init__()\n",
        "    self.hidden_layers = hidden_layers\n",
        "    self.input_layer = nn.Conv2d(6, hidden_size, 3, stride=1, padding=1)\n",
        "    self.module_list = nn.ModuleList([module(hidden_size) for i in range(hidden_layers)])\n",
        "    self.output_layer = nn.Conv2d(hidden_size, 2, 3, stride=1, padding=1)\n",
        "\n",
        "  def forward(self, x):\n",
        "    x = self.input_layer(x)\n",
        "    x = F.relu(x)\n",
        "\n",
        "    for i in range(self.hidden_layers):\n",
        "      x = self.module_list[i](x)\n",
        "\n",
        "    x = self.output_layer(x)\n",
        "\n",
        "    return x"
      ]
    },
    {
      "cell_type": "code",
      "execution_count": null,
      "metadata": {
        "colab": {
          "base_uri": "https://localhost:8080/"
        },
        "id": "WMXPHdTal-tY",
        "outputId": "0f8c5874-4ff4-4f2c-96f2-992959ac38d9"
      },
      "outputs": [],
      "source": [
        "if torch.cuda.is_available():\n",
        "  device = torch.device(\"cuda\")\n",
        "  print(\"CUDA is available. Training on GPU.\")\n",
        "else:\n",
        "  device = torch.device(\"cpu\")\n",
        "  print(\"CUDA not available. Training on CPU.\")\n",
        "\n",
        "# Initialize the ChessNet model\n",
        "\n",
        "model_epoch = 0\n",
        "\n",
        "model = ChessNet(hidden_layers=4, hidden_size=200).to(device)\n",
        "if model_epoch >= 0:\n",
        "  model.load_state_dict(torch.load(f'chess_model_epoch_{model_epoch}.pth'))\n",
        "model.train()  # Set the model to training mode\n",
        "\n",
        "# Define the optimizer\n",
        "optimizer = optim.Adam(model.parameters(), lr=0.001)\n",
        "\n",
        "# Define separate loss functions for different parts of the output\n",
        "metric_from = nn.CrossEntropyLoss()\n",
        "metric_to = nn.CrossEntropyLoss()\n",
        "\n",
        "# Training loop\n",
        "num_epochs = 100  # Number of epochs to train for\n",
        "for epoch in range(num_epochs):\n",
        "  epoch += model_epoch + 1\n",
        "  total_loss = 0.0\n",
        "  for i, (x, y) in enumerate(data_train_loader):\n",
        "    # Move data to the appropriate device (e.g., GPU or CPU)\n",
        "    x = x.float().to(device)\n",
        "    y = y.float().to(device)\n",
        "\n",
        "    # Zero the parameter gradients\n",
        "    optimizer.zero_grad()\n",
        "\n",
        "    # Forward pass\n",
        "    output = model(x)\n",
        "\n",
        "    # Compute loss for both outputs\n",
        "    loss_from = metric_from(output[:, 0, :], y[:, 0, :])\n",
        "    loss_to = metric_to(output[:, 1, :], y[:, 1, :])\n",
        "    loss = loss_from + loss_to\n",
        "\n",
        "    # Backward pass and optimize\n",
        "    loss.backward()\n",
        "    optimizer.step()\n",
        "\n",
        "    # Print statistics\n",
        "    total_loss += loss.item()\n",
        "    if (i + 1) % 100 == 0:  # Print every 100 mini-batches\n",
        "      print(f'Epoch [{epoch + 1}/{num_epochs}], Step [{i + 1}/{len(data_train_loader)}], Loss: {total_loss / 100:.4f}')\n",
        "      total_loss = 0.0\n",
        "\n",
        "  torch.save(model.state_dict(), f'chess_model_epoch_{epoch}.pth')\n",
        "\n",
        "print('Finished Training')"
      ]
    }
  ],
  "metadata": {
    "accelerator": "GPU",
    "colab": {
      "authorship_tag": "ABX9TyPdlHZi4pKKVVE55UwOmG/P",
      "gpuType": "T4",
      "include_colab_link": true,
      "provenance": []
    },
    "kernelspec": {
      "display_name": "Python 3",
      "name": "python3"
    },
    "language_info": {
      "codemirror_mode": {
        "name": "ipython",
        "version": 3
      },
      "file_extension": ".py",
      "mimetype": "text/x-python",
      "name": "python",
      "nbconvert_exporter": "python",
      "pygments_lexer": "ipython3",
      "version": "3.12.2"
    }
  },
  "nbformat": 4,
  "nbformat_minor": 0
}
